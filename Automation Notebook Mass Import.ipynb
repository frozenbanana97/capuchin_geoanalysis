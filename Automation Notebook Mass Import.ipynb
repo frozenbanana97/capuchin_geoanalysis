{
 "cells": [
  {
   "cell_type": "markdown",
   "metadata": {},
   "source": [
    "### Automation Script Overhaul \n",
    "For automating the parsing, transformation, and geographic file creation from .GPX<br><br>\n",
    "Work taken from the script by Isias (ler_gpx.py) and workflow by Simone. Further developments by Kyle & Isais. <br><br>\n",
    "Data collection must be done with Locus Map 4.x or formatted similarly to GPX files exportd by Locus Map 4 for this script to work."
   ]
  },
  {
   "cell_type": "markdown",
   "metadata": {},
   "source": [
    "### Section 1\n",
    "This section takes the raw GPX files and makes them ready for QGIS and statistical analysis."
   ]
  },
  {
   "cell_type": "markdown",
   "metadata": {},
   "source": [
    "##### Daily Data\n",
    "This next for loop / cell will create files with the data sorted by day and must be run before creaating data files by scan."
   ]
  },
  {
   "cell_type": "code",
   "execution_count": 1,
   "metadata": {},
   "outputs": [],
   "source": [
    "import gpxpy\n",
    "import pandas as pd\n",
    "import geopandas as gpd\n",
    "import warnings\n",
    "import os\n",
    "from os import mkdir\n",
    "from datetime import datetime, timedelta\n",
    "\n",
    "import spatialFunctions\n",
    "from spatialFunctions import *\n",
    "\n",
    "# Remove warning message for future warnings / Remover mensagem de aviso para avisos futuros\n",
    "warnings.filterwarnings(action='ignore',category=FutureWarning)\n",
    "# Suppress warning for setting with copy, non-issue here / Suprimir aviso para configuração com cópia, não é problema aqui\n",
    "pd.set_option('mode.chained_assignment',None)\n",
    "\n",
    "# Get user decision for input fields and state the variables / Obtenha a decisão do usuário para campos de entrada e indique as variáveis\n",
    "userInput = input('To add observer, group, and weather information for each day type \\'yes\\'. Otherwise hit escape')\n",
    "observer = ''\n",
    "group = ''\n",
    "weather = ''\n",
    "\n",
    "# Create a dictionary with all gpx files in dictionary / Crie um dicionário com todos os arquivos gpx no dicionário\n",
    "\n",
    "gpxDict = dict()\n",
    "\n",
    "for file in os.listdir():\n",
    "    if file.endswith('.gpx'):\n",
    "       gpxDict[file] = 'file_'+file\n",
    "\n",
    "# Run for loop to cover every gpx file in directory / Execute o loop para cobrir todos os arquivos gpx no diretório\n",
    "\n",
    "for i in gpxDict:\n",
    "    \n",
    "    # Open and read in the .gpx to a dataframe / Abra e leia no .gpx para um dataframe\n",
    "    gpxCurrent = i\n",
    "    gpxCurrent = open(gpxCurrent)\n",
    "    gpxCurrent = gpxpy.parse(gpxCurrent)\n",
    "    gpxCurrent = gpxCurrent.to_xml()\n",
    "    df = pd.read_xml(gpxCurrent)\n",
    "\n",
    "    # Ask for observer, group, climate conditions / Pergunte por observador, grupo, condições climáticas\n",
    "    if userInput:\n",
    "        observer = input('Input for '+i+': Observer/Observador? ')\n",
    "        group = input('Input for '+i+': Group/Grupo? (if both, mark 0) ') # or leave blank?\n",
    "        weather = input('Input for '+i+': Weather conditions/Condição do clima? ')\n",
    "    \n",
    "    # Remove unecessary columns / Remova colunas desnecessárias\n",
    "    df.pop('desc')\n",
    "    df.pop('time')\n",
    "    if 'hdop' in df.columns:\n",
    "        df.pop('hdop')\n",
    "    df = df.drop(index=0)\n",
    "\n",
    "    # Reorganize columns / Reorganizar colunas\n",
    "    shiftPos = df.pop('name')\n",
    "    df.insert(0, 'name', shiftPos)\n",
    "\n",
    "    # Insert user input columns if they have a value / Insira colunas de entrada do usuário se elas tiverem um valor\n",
    "    if observer:\n",
    "        df.insert(loc=1, column='observer', value=observer, allow_duplicates=True)\n",
    "    if group:\n",
    "        df.insert(loc=1, column='group', value=group, allow_duplicates=True)\n",
    "    if weather:\n",
    "        df.insert(loc=1, column='weather', value=weather, allow_duplicates=True)\n",
    "\n",
    "    # Split 'name' into date, time, and observations / Dividir 'nome' em data, hora e observações\n",
    "    date = df['name'].str[:10]\n",
    "    df.insert(loc=0, column='date', value=date, allow_duplicates=True)\n",
    "\n",
    "    time = df['name'].str[11:19]\n",
    "    df.insert(loc=1, column='time', value=time, allow_duplicates=True)\n",
    "\n",
    "    obs = df['name'].str[19:]\n",
    "    df.insert(loc=2, column='obs', value=obs, allow_duplicates=True)\n",
    "    # Remove whitespace from observations column / Remover espaço em branco da coluna de observações\n",
    "    df['obs'] = df['obs'].str.strip()\n",
    "\n",
    "    df.pop('name')\n",
    "\n",
    "    # Run the timeScan method in spatialFunctions to apply each point to its appropriate scan\n",
    "    # Execute o método timeScan em spatialFunctions para aplicar cada ponto à sua varredura apropriada\n",
    "    timeScan(df)\n",
    "    \n",
    "    # Run the observations method in spatialFunctions / Execute o método de observações em spatialFunctions\n",
    "    observations(df)\n",
    "\n",
    "    # Make geographic and set CRS / Faça geográfica e defina CRS\n",
    "    gdf = gpd.GeoDataFrame(df, geometry=gpd.points_from_xy(df.lon, df.lat)) \n",
    "    gdf = gdf.set_crs('EPSG:4326')\n",
    "    gdf = gdf.to_crs('EPSG:31985')\n",
    "\n",
    "    # Check and create save directory for gpkg files / Verifique e crie um diretório de salvamento para arquivos gpkg\n",
    "    gpkgsavePath = './gpkgData'\n",
    "    isDir = os.path.isdir(gpkgsavePath)\n",
    "    if isDir == False:\n",
    "        mkdir('gpkgData')\n",
    "    \n",
    "    # Export gdf into gpkg / Exportar gdf para gpkg\n",
    "    gdf.to_file('gpkgData/'+i[:-4]+'scans.gpkg', driver=\"GPKG\", layer=i[:-4]+'_wholeDay')\n",
    "    \n",
    "    # Export each scan as a separate layer using the scanExport and scanSpatial methods in spatialFunctions\n",
    "    # Exporte cada varredura como uma camada separada usando os métodos scanExport e scanSpatial em spatialFunctions    \n",
    "    scanExport(gdf, i)\n",
    "\n",
    "    # Check and create save directory for csv files / Verifique e crie um diretório de salvamento para arquivos csv\n",
    "    csvsavePath = './csvDayFiles'\n",
    "    isDir = os.path.isdir(csvsavePath)\n",
    "    if isDir == False:\n",
    "        mkdir('csvDayFiles')\n",
    "    \n",
    "    # Save to csv / Salvar em csv\n",
    "    gdf.to_csv('csvDayFiles/'+i[:-4]+'.csv')"
   ]
  },
  {
   "cell_type": "markdown",
   "metadata": {},
   "source": [
    "#### Section 2\n",
    "Analysis of scans, analyze all of this for every individual scan"
   ]
  },
  {
   "cell_type": "markdown",
   "metadata": {},
   "source": [
    "#### For GPKG data stored in gpkgData folder"
   ]
  },
  {
   "cell_type": "code",
   "execution_count": null,
   "metadata": {},
   "outputs": [],
   "source": [
    "import pandas as pd\n",
    "import geopandas as gpd\n",
    "\n",
    "gpkgDict = dict()\n",
    "\n",
    "for file in os.listdir('gpkgData'):\n",
    "    if file.endswith('.gpkg'):\n",
    "       gpkgDict[file] = 'file_'+file\n",
    "\n",
    "\n",
    "\n",
    "\n",
    "# for i in gpkgDict:\n"
   ]
  },
  {
   "cell_type": "code",
   "execution_count": null,
   "metadata": {},
   "outputs": [],
   "source": []
  },
  {
   "cell_type": "code",
   "execution_count": null,
   "metadata": {},
   "outputs": [],
   "source": [
    "# Distance between each centroid in temporal order\n"
   ]
  },
  {
   "cell_type": "code",
   "execution_count": null,
   "metadata": {},
   "outputs": [],
   "source": [
    "# Subgroups/cluster analysis, find clusters on eah scan and distance from each sub-centroid to main group centroid\n"
   ]
  },
  {
   "cell_type": "markdown",
   "metadata": {},
   "source": [
    "#### Export Data"
   ]
  },
  {
   "cell_type": "code",
   "execution_count": null,
   "metadata": {},
   "outputs": [],
   "source": [
    "# Export data frame to gpkg for use in QGIS / Exportar quadro de dados para gpkg para uso no QGIS\n"
   ]
  },
  {
   "cell_type": "code",
   "execution_count": null,
   "metadata": {},
   "outputs": [],
   "source": []
  }
 ],
 "metadata": {
  "kernelspec": {
   "display_name": "Python 3.8.10 ('venvScanAutomation': venv)",
   "language": "python",
   "name": "python3"
  },
  "language_info": {
   "codemirror_mode": {
    "name": "ipython",
    "version": 3
   },
   "file_extension": ".py",
   "mimetype": "text/x-python",
   "name": "python",
   "nbconvert_exporter": "python",
   "pygments_lexer": "ipython3",
   "version": "3.8.10"
  },
  "orig_nbformat": 4,
  "vscode": {
   "interpreter": {
    "hash": "f0f140c0515cce258fdf849486238554cd45128ff92344433aac6799452693c7"
   }
  }
 },
 "nbformat": 4,
 "nbformat_minor": 2
}
