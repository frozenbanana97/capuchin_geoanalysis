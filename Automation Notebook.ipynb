{
 "cells": [
  {
   "cell_type": "markdown",
   "metadata": {},
   "source": [
    "### Automation Script Overhaul \n",
    "For automating the parsing, transformation, and geographic file creation from .GPX<br><br>\n",
    "Work taken from the script by Isias (ler_gpx.py) and workflow by Simone. Further developments by Kyle & Isais. <br><br>\n",
    "Data collection must be done with Locus Map 4.x or formatted similarly to GPX files exportd by Locus Map 4 for this script to work."
   ]
  },
  {
   "cell_type": "markdown",
   "metadata": {},
   "source": [
    "### Section 1\n",
    "This section takes the raw GPX files and makes them ready for QGIS and statistical analysis."
   ]
  },
  {
   "cell_type": "markdown",
   "metadata": {},
   "source": [
    "##### Daily Data\n",
    "This next for loop / cell will create files with the data sorted by day and must be run before creaating data files by scan."
   ]
  },
  {
   "cell_type": "code",
   "execution_count": 1,
   "metadata": {},
   "outputs": [],
   "source": [
    "import gpxpy\n",
    "import pandas as pd\n",
    "import geopandas as gpd\n",
    "import warnings\n",
    "import os\n",
    "from os import mkdir\n",
    "from datetime import datetime, timedelta\n",
    "from shapely import wkt\n",
    "from shapely.geometry import LineString\n",
    "\n",
    "\n",
    "import spatialFunctions\n",
    "from spatialFunctions import *"
   ]
  },
  {
   "cell_type": "code",
   "execution_count": 2,
   "metadata": {},
   "outputs": [
    {
     "data": {
      "text/html": [
       "<div>\n",
       "<style scoped>\n",
       "    .dataframe tbody tr th:only-of-type {\n",
       "        vertical-align: middle;\n",
       "    }\n",
       "\n",
       "    .dataframe tbody tr th {\n",
       "        vertical-align: top;\n",
       "    }\n",
       "\n",
       "    .dataframe thead th {\n",
       "        text-align: right;\n",
       "    }\n",
       "</style>\n",
       "<table border=\"1\" class=\"dataframe\">\n",
       "  <thead>\n",
       "    <tr style=\"text-align: right;\">\n",
       "      <th></th>\n",
       "      <th>date</th>\n",
       "      <th>scan</th>\n",
       "      <th>zone</th>\n",
       "      <th>area(m2)</th>\n",
       "      <th>perimeter(m)</th>\n",
       "      <th>individuals</th>\n",
       "      <th>ind/ha</th>\n",
       "      <th>ind/perim(km)</th>\n",
       "      <th>centroid</th>\n",
       "      <th>centBorder(m)</th>\n",
       "    </tr>\n",
       "  </thead>\n",
       "  <tbody>\n",
       "    <tr>\n",
       "      <th>0</th>\n",
       "      <td>20220620</td>\n",
       "      <td>1</td>\n",
       "      <td>POLYGON ((283145.4720175263 9168160.514930412,...</td>\n",
       "      <td>8609.506948</td>\n",
       "      <td>388.503749</td>\n",
       "      <td>19</td>\n",
       "      <td>2.206863</td>\n",
       "      <td>48.905577</td>\n",
       "      <td>POINT (283206.562 9168199.737)</td>\n",
       "      <td>40.886908</td>\n",
       "    </tr>\n",
       "    <tr>\n",
       "      <th>1</th>\n",
       "      <td>20220620</td>\n",
       "      <td>2</td>\n",
       "      <td>POLYGON ((283184.148496979 9168102.394768221, ...</td>\n",
       "      <td>1451.695042</td>\n",
       "      <td>192.834308</td>\n",
       "      <td>6</td>\n",
       "      <td>4.133099</td>\n",
       "      <td>31.114795</td>\n",
       "      <td>POINT (283190.636 9168128.658)</td>\n",
       "      <td>113.217419</td>\n",
       "    </tr>\n",
       "    <tr>\n",
       "      <th>2</th>\n",
       "      <td>20220620</td>\n",
       "      <td>3</td>\n",
       "      <td>POLYGON ((283213.29180710355 9168225.197127782...</td>\n",
       "      <td>1959.275747</td>\n",
       "      <td>244.836270</td>\n",
       "      <td>30</td>\n",
       "      <td>15.311780</td>\n",
       "      <td>122.530865</td>\n",
       "      <td>POINT (283170.159 9168270.322)</td>\n",
       "      <td>6.677663</td>\n",
       "    </tr>\n",
       "    <tr>\n",
       "      <th>3</th>\n",
       "      <td>20220620</td>\n",
       "      <td>4</td>\n",
       "      <td>POLYGON ((283171.64118206466 9168257.309558447...</td>\n",
       "      <td>940.278005</td>\n",
       "      <td>229.421717</td>\n",
       "      <td>12</td>\n",
       "      <td>12.762183</td>\n",
       "      <td>52.305423</td>\n",
       "      <td>POINT (283121.757 9168318.136)</td>\n",
       "      <td>11.565621</td>\n",
       "    </tr>\n",
       "    <tr>\n",
       "      <th>4</th>\n",
       "      <td>20220620</td>\n",
       "      <td>5</td>\n",
       "      <td>POLYGON ((283133.48273913073 9168200.061091943...</td>\n",
       "      <td>2352.304260</td>\n",
       "      <td>198.399968</td>\n",
       "      <td>20</td>\n",
       "      <td>8.502301</td>\n",
       "      <td>100.806468</td>\n",
       "      <td>POINT (283137.868 9168236.302)</td>\n",
       "      <td>53.358743</td>\n",
       "    </tr>\n",
       "  </tbody>\n",
       "</table>\n",
       "</div>"
      ],
      "text/plain": [
       "       date scan                                               zone  \\\n",
       "0  20220620    1  POLYGON ((283145.4720175263 9168160.514930412,...   \n",
       "1  20220620    2  POLYGON ((283184.148496979 9168102.394768221, ...   \n",
       "2  20220620    3  POLYGON ((283213.29180710355 9168225.197127782...   \n",
       "3  20220620    4  POLYGON ((283171.64118206466 9168257.309558447...   \n",
       "4  20220620    5  POLYGON ((283133.48273913073 9168200.061091943...   \n",
       "\n",
       "      area(m2)  perimeter(m)  individuals     ind/ha  ind/perim(km)  \\\n",
       "0  8609.506948    388.503749           19   2.206863      48.905577   \n",
       "1  1451.695042    192.834308            6   4.133099      31.114795   \n",
       "2  1959.275747    244.836270           30  15.311780     122.530865   \n",
       "3   940.278005    229.421717           12  12.762183      52.305423   \n",
       "4  2352.304260    198.399968           20   8.502301     100.806468   \n",
       "\n",
       "                         centroid  centBorder(m)  \n",
       "0  POINT (283206.562 9168199.737)      40.886908  \n",
       "1  POINT (283190.636 9168128.658)     113.217419  \n",
       "2  POINT (283170.159 9168270.322)       6.677663  \n",
       "3  POINT (283121.757 9168318.136)      11.565621  \n",
       "4  POINT (283137.868 9168236.302)      53.358743  "
      ]
     },
     "execution_count": 2,
     "metadata": {},
     "output_type": "execute_result"
    }
   ],
   "source": [
    "dir_sel = ''\n",
    "if dir_sel:\n",
    "    mastercsv = pd.read_csv(dir_sel+'/csvDayFiles/scansMaster.csv',)\n",
    "else:\n",
    "    mastercsv = pd.read_csv('csvDayFiles/scansMaster.csv',)\n",
    "\n",
    "mastercsv['centroid'] = mastercsv['centroid'].apply(wkt.loads)\n",
    "master = gpd.GeoDataFrame(mastercsv, geometry='centroid', crs='EPSG:31985')\n",
    "master.head()"
   ]
  },
  {
   "cell_type": "code",
   "execution_count": 3,
   "metadata": {},
   "outputs": [
    {
     "data": {
      "text/html": [
       "<div>\n",
       "<style scoped>\n",
       "    .dataframe tbody tr th:only-of-type {\n",
       "        vertical-align: middle;\n",
       "    }\n",
       "\n",
       "    .dataframe tbody tr th {\n",
       "        vertical-align: top;\n",
       "    }\n",
       "\n",
       "    .dataframe thead th {\n",
       "        text-align: right;\n",
       "    }\n",
       "</style>\n",
       "<table border=\"1\" class=\"dataframe\">\n",
       "  <thead>\n",
       "    <tr style=\"text-align: right;\">\n",
       "      <th></th>\n",
       "      <th>date</th>\n",
       "      <th>scan</th>\n",
       "      <th>zone</th>\n",
       "      <th>area(m2)</th>\n",
       "      <th>perimeter(m)</th>\n",
       "      <th>individuals</th>\n",
       "      <th>ind/ha</th>\n",
       "      <th>ind/perim(km)</th>\n",
       "      <th>centroid</th>\n",
       "      <th>centBorder(m)</th>\n",
       "    </tr>\n",
       "  </thead>\n",
       "  <tbody>\n",
       "    <tr>\n",
       "      <th>0</th>\n",
       "      <td>20220619</td>\n",
       "      <td>1</td>\n",
       "      <td>POLYGON ((283088.25231338013 9168341.002126466...</td>\n",
       "      <td>6627.336846</td>\n",
       "      <td>391.314825</td>\n",
       "      <td>11</td>\n",
       "      <td>1.659792</td>\n",
       "      <td>28.110358</td>\n",
       "      <td>POINT (283045.385 9168416.038)</td>\n",
       "      <td>60.456421</td>\n",
       "    </tr>\n",
       "    <tr>\n",
       "      <th>1</th>\n",
       "      <td>20220619</td>\n",
       "      <td>2</td>\n",
       "      <td>POLYGON ((283106.25612520013 9168387.872948287...</td>\n",
       "      <td>978.396110</td>\n",
       "      <td>161.174806</td>\n",
       "      <td>17</td>\n",
       "      <td>17.375376</td>\n",
       "      <td>105.475542</td>\n",
       "      <td>POINT (283100.779 9168423.160)</td>\n",
       "      <td>5.181866</td>\n",
       "    </tr>\n",
       "    <tr>\n",
       "      <th>2</th>\n",
       "      <td>20220619</td>\n",
       "      <td>3</td>\n",
       "      <td>POLYGON ((283108.6540333381 9168320.96190676, ...</td>\n",
       "      <td>731.572121</td>\n",
       "      <td>155.182701</td>\n",
       "      <td>17</td>\n",
       "      <td>23.237627</td>\n",
       "      <td>109.548293</td>\n",
       "      <td>POINT (283106.408 9168367.137)</td>\n",
       "      <td>13.982538</td>\n",
       "    </tr>\n",
       "    <tr>\n",
       "      <th>3</th>\n",
       "      <td>20220619</td>\n",
       "      <td>4</td>\n",
       "      <td>POLYGON ((283203.53254056745 9168235.219232237...</td>\n",
       "      <td>6253.122656</td>\n",
       "      <td>460.821130</td>\n",
       "      <td>18</td>\n",
       "      <td>2.878562</td>\n",
       "      <td>39.060709</td>\n",
       "      <td>POINT (283158.620 9168272.627)</td>\n",
       "      <td>13.891957</td>\n",
       "    </tr>\n",
       "    <tr>\n",
       "      <th>4</th>\n",
       "      <td>20220620</td>\n",
       "      <td>1</td>\n",
       "      <td>POLYGON ((283145.4720175263 9168160.514930412,...</td>\n",
       "      <td>8609.506948</td>\n",
       "      <td>388.503749</td>\n",
       "      <td>19</td>\n",
       "      <td>2.206863</td>\n",
       "      <td>48.905577</td>\n",
       "      <td>POINT (283206.562 9168199.737)</td>\n",
       "      <td>40.886908</td>\n",
       "    </tr>\n",
       "  </tbody>\n",
       "</table>\n",
       "</div>"
      ],
      "text/plain": [
       "       date scan                                               zone  \\\n",
       "0  20220619    1  POLYGON ((283088.25231338013 9168341.002126466...   \n",
       "1  20220619    2  POLYGON ((283106.25612520013 9168387.872948287...   \n",
       "2  20220619    3  POLYGON ((283108.6540333381 9168320.96190676, ...   \n",
       "3  20220619    4  POLYGON ((283203.53254056745 9168235.219232237...   \n",
       "4  20220620    1  POLYGON ((283145.4720175263 9168160.514930412,...   \n",
       "\n",
       "      area(m2)  perimeter(m)  individuals     ind/ha  ind/perim(km)  \\\n",
       "0  6627.336846    391.314825           11   1.659792      28.110358   \n",
       "1   978.396110    161.174806           17  17.375376     105.475542   \n",
       "2   731.572121    155.182701           17  23.237627     109.548293   \n",
       "3  6253.122656    460.821130           18   2.878562      39.060709   \n",
       "4  8609.506948    388.503749           19   2.206863      48.905577   \n",
       "\n",
       "                         centroid  centBorder(m)  \n",
       "0  POINT (283045.385 9168416.038)      60.456421  \n",
       "1  POINT (283100.779 9168423.160)       5.181866  \n",
       "2  POINT (283106.408 9168367.137)      13.982538  \n",
       "3  POINT (283158.620 9168272.627)      13.891957  \n",
       "4  POINT (283206.562 9168199.737)      40.886908  "
      ]
     },
     "execution_count": 3,
     "metadata": {},
     "output_type": "execute_result"
    }
   ],
   "source": [
    "dfmaster = master[master['scan'].apply(lambda x: str(x).isdigit())]\n",
    "dfmaster = dfmaster.sort_values('date').reset_index(drop=True)\n",
    "dfmaster.head()"
   ]
  },
  {
   "cell_type": "code",
   "execution_count": 4,
   "metadata": {},
   "outputs": [
    {
     "data": {
      "text/html": [
       "<div>\n",
       "<style scoped>\n",
       "    .dataframe tbody tr th:only-of-type {\n",
       "        vertical-align: middle;\n",
       "    }\n",
       "\n",
       "    .dataframe tbody tr th {\n",
       "        vertical-align: top;\n",
       "    }\n",
       "\n",
       "    .dataframe thead th {\n",
       "        text-align: right;\n",
       "    }\n",
       "</style>\n",
       "<table border=\"1\" class=\"dataframe\">\n",
       "  <thead>\n",
       "    <tr style=\"text-align: right;\">\n",
       "      <th></th>\n",
       "      <th>centroid</th>\n",
       "    </tr>\n",
       "    <tr>\n",
       "      <th>date</th>\n",
       "      <th></th>\n",
       "    </tr>\n",
       "  </thead>\n",
       "  <tbody>\n",
       "    <tr>\n",
       "      <th>20220619</th>\n",
       "      <td>LINESTRING (283045.3850421915 9168416.03754092...</td>\n",
       "    </tr>\n",
       "    <tr>\n",
       "      <th>20220620</th>\n",
       "      <td>LINESTRING (283206.56196952634 9168199.7371894...</td>\n",
       "    </tr>\n",
       "  </tbody>\n",
       "</table>\n",
       "</div>"
      ],
      "text/plain": [
       "                                                   centroid\n",
       "date                                                       \n",
       "20220619  LINESTRING (283045.3850421915 9168416.03754092...\n",
       "20220620  LINESTRING (283206.56196952634 9168199.7371894..."
      ]
     },
     "execution_count": 4,
     "metadata": {},
     "output_type": "execute_result"
    }
   ],
   "source": [
    "groupmaster = dfmaster.groupby(['date']).agg({'centroid':list})\n",
    "groupmaster['centroid'] = groupmaster['centroid'].apply(lambda x: LineString(x))\n",
    "groupedmaster = gpd.GeoDataFrame(groupmaster)\n",
    "groupedmaster.to_csv('temp.csv')\n",
    "groupedmaster.head()"
   ]
  },
  {
   "cell_type": "code",
   "execution_count": 5,
   "metadata": {},
   "outputs": [
    {
     "data": {
      "text/html": [
       "<div>\n",
       "<style scoped>\n",
       "    .dataframe tbody tr th:only-of-type {\n",
       "        vertical-align: middle;\n",
       "    }\n",
       "\n",
       "    .dataframe tbody tr th {\n",
       "        vertical-align: top;\n",
       "    }\n",
       "\n",
       "    .dataframe thead th {\n",
       "        text-align: right;\n",
       "    }\n",
       "</style>\n",
       "<table border=\"1\" class=\"dataframe\">\n",
       "  <thead>\n",
       "    <tr style=\"text-align: right;\">\n",
       "      <th></th>\n",
       "      <th>date</th>\n",
       "      <th>geometry</th>\n",
       "    </tr>\n",
       "  </thead>\n",
       "  <tbody>\n",
       "    <tr>\n",
       "      <th>0</th>\n",
       "      <td>20220619</td>\n",
       "      <td>LINESTRING (283045.385 9168416.038, 283100.779...</td>\n",
       "    </tr>\n",
       "    <tr>\n",
       "      <th>1</th>\n",
       "      <td>20220620</td>\n",
       "      <td>LINESTRING (283206.562 9168199.737, 283190.636...</td>\n",
       "    </tr>\n",
       "  </tbody>\n",
       "</table>\n",
       "</div>"
      ],
      "text/plain": [
       "       date                                           geometry\n",
       "0  20220619  LINESTRING (283045.385 9168416.038, 283100.779...\n",
       "1  20220620  LINESTRING (283206.562 9168199.737, 283190.636..."
      ]
     },
     "execution_count": 5,
     "metadata": {},
     "output_type": "execute_result"
    }
   ],
   "source": [
    "lines = pd.read_csv('temp.csv',)\n",
    "lines.rename(columns={'centroid':'geometry'}, inplace=True)\n",
    "lines['geometry'] = lines['geometry'].apply(wkt.loads)\n",
    "lines = gpd.GeoDataFrame(lines, geometry='geometry', crs='EPSG:31985')\n",
    "# lines = lines.reset_index(drop=True)\n",
    "lines.head()"
   ]
  },
  {
   "cell_type": "code",
   "execution_count": 6,
   "metadata": {},
   "outputs": [
    {
     "name": "stderr",
     "output_type": "stream",
     "text": [
      "/home/kyle/Nextcloud/Monkey_Research/Data_Work/capuchin_geoanalysis/venvScans/lib/python3.8/site-packages/geopandas/io/file.py:362: FutureWarning: pandas.Int64Index is deprecated and will be removed from pandas in a future version. Use pandas.Index with the appropriate dtype instead.\n",
      "  pd.Int64Index,\n",
      "/home/kyle/Nextcloud/Monkey_Research/Data_Work/capuchin_geoanalysis/venvScans/lib/python3.8/site-packages/geopandas/io/file.py:362: FutureWarning: pandas.Int64Index is deprecated and will be removed from pandas in a future version. Use pandas.Index with the appropriate dtype instead.\n",
      "  pd.Int64Index,\n"
     ]
    }
   ],
   "source": [
    "for i, row in lines.iterrows():\n",
    "    date = str(row['date'])\n",
    "    dateline = lines.loc[[i]]\n",
    "    dateline.loc[:,'length'] = dateline.length\n",
    "\n",
    "    if dir_sel:\n",
    "        dateline.to_file(dir_sel+'/gpkgData/'+date+'scans.gpkg', driver=\"GPKG\", layer=date+'_route')\n",
    "    else:\n",
    "        dateline.to_file('gpkgData/'+date+'scans.gpkg', driver=\"GPKG\", layer=date+'_route')"
   ]
  },
  {
   "cell_type": "code",
   "execution_count": 14,
   "metadata": {},
   "outputs": [
    {
     "name": "stdout",
     "output_type": "stream",
     "text": [
      "date                int64\n",
      "scan                int64\n",
      "zone               object\n",
      "area(m2)          float64\n",
      "perimeter(m)      float64\n",
      "individuals         int64\n",
      "ind/ha            float64\n",
      "ind/perim(km)     float64\n",
      "centroid         geometry\n",
      "centBorder(m)     float64\n",
      "scanCheck         float64\n",
      "dtype: object\n"
     ]
    },
    {
     "ename": "ValueError",
     "evalue": "The truth value of a Series is ambiguous. Use a.empty, a.bool(), a.item(), a.any() or a.all().",
     "output_type": "error",
     "traceback": [
      "\u001b[0;31m---------------------------------------------------------------------------\u001b[0m",
      "\u001b[0;31mValueError\u001b[0m                                Traceback (most recent call last)",
      "\u001b[1;32m/home/kyle/Nextcloud/Monkey_Research/Data_Work/capuchin_geoanalysis/Automation Notebook.ipynb Cell 10\u001b[0m in \u001b[0;36m<cell line: 7>\u001b[0;34m()\u001b[0m\n\u001b[1;32m      <a href='vscode-notebook-cell:/home/kyle/Nextcloud/Monkey_Research/Data_Work/capuchin_geoanalysis/Automation%20Notebook.ipynb#ch0000025?line=4'>5</a>\u001b[0m dfmaster[\u001b[39m'\u001b[39m\u001b[39mscan\u001b[39m\u001b[39m'\u001b[39m] \u001b[39m=\u001b[39m dfmaster[\u001b[39m'\u001b[39m\u001b[39mscan\u001b[39m\u001b[39m'\u001b[39m]\u001b[39m.\u001b[39mastype(\u001b[39mstr\u001b[39m)\u001b[39m.\u001b[39mastype(\u001b[39mint\u001b[39m)\n\u001b[1;32m      <a href='vscode-notebook-cell:/home/kyle/Nextcloud/Monkey_Research/Data_Work/capuchin_geoanalysis/Automation%20Notebook.ipynb#ch0000025?line=5'>6</a>\u001b[0m \u001b[39mprint\u001b[39m(dfmaster\u001b[39m.\u001b[39mdtypes)\n\u001b[0;32m----> <a href='vscode-notebook-cell:/home/kyle/Nextcloud/Monkey_Research/Data_Work/capuchin_geoanalysis/Automation%20Notebook.ipynb#ch0000025?line=6'>7</a>\u001b[0m \u001b[39mif\u001b[39;00m dfmaster[\u001b[39m'\u001b[39m\u001b[39mscan\u001b[39m\u001b[39m'\u001b[39m]\u001b[39m.\u001b[39mastype({\u001b[39m'\u001b[39m\u001b[39mscan\u001b[39m\u001b[39m'\u001b[39m:\u001b[39mint\u001b[39m}) \u001b[39m==\u001b[39m dfmaster[\u001b[39m'\u001b[39m\u001b[39mscanCheck\u001b[39m\u001b[39m'\u001b[39m]\u001b[39m-\u001b[39m\u001b[39m1\u001b[39m:\n\u001b[1;32m      <a href='vscode-notebook-cell:/home/kyle/Nextcloud/Monkey_Research/Data_Work/capuchin_geoanalysis/Automation%20Notebook.ipynb#ch0000025?line=7'>8</a>\u001b[0m     point2 \u001b[39m=\u001b[39m dfmaster[\u001b[39m'\u001b[39m\u001b[39mcentroid\u001b[39m\u001b[39m'\u001b[39m]\u001b[39m.\u001b[39mshift(\u001b[39m-\u001b[39m\u001b[39m1\u001b[39m)\n\u001b[1;32m      <a href='vscode-notebook-cell:/home/kyle/Nextcloud/Monkey_Research/Data_Work/capuchin_geoanalysis/Automation%20Notebook.ipynb#ch0000025?line=8'>9</a>\u001b[0m point2 \u001b[39m=\u001b[39m gpd\u001b[39m.\u001b[39mGeoDataFrame(point2, geometry\u001b[39m=\u001b[39m\u001b[39m'\u001b[39m\u001b[39mcentroid\u001b[39m\u001b[39m'\u001b[39m, crs\u001b[39m=\u001b[39m\u001b[39m'\u001b[39m\u001b[39mEPSG:31985\u001b[39m\u001b[39m'\u001b[39m)\n",
      "File \u001b[0;32m~/Nextcloud/Monkey_Research/Data_Work/capuchin_geoanalysis/venvScans/lib/python3.8/site-packages/pandas/core/generic.py:1527\u001b[0m, in \u001b[0;36mNDFrame.__nonzero__\u001b[0;34m(self)\u001b[0m\n\u001b[1;32m   1525\u001b[0m \u001b[39m@final\u001b[39m\n\u001b[1;32m   1526\u001b[0m \u001b[39mdef\u001b[39;00m \u001b[39m__nonzero__\u001b[39m(\u001b[39mself\u001b[39m):\n\u001b[0;32m-> 1527\u001b[0m     \u001b[39mraise\u001b[39;00m \u001b[39mValueError\u001b[39;00m(\n\u001b[1;32m   1528\u001b[0m         \u001b[39mf\u001b[39m\u001b[39m\"\u001b[39m\u001b[39mThe truth value of a \u001b[39m\u001b[39m{\u001b[39;00m\u001b[39mtype\u001b[39m(\u001b[39mself\u001b[39m)\u001b[39m.\u001b[39m\u001b[39m__name__\u001b[39m\u001b[39m}\u001b[39;00m\u001b[39m is ambiguous. \u001b[39m\u001b[39m\"\u001b[39m\n\u001b[1;32m   1529\u001b[0m         \u001b[39m\"\u001b[39m\u001b[39mUse a.empty, a.bool(), a.item(), a.any() or a.all().\u001b[39m\u001b[39m\"\u001b[39m\n\u001b[1;32m   1530\u001b[0m     )\n",
      "\u001b[0;31mValueError\u001b[0m: The truth value of a Series is ambiguous. Use a.empty, a.bool(), a.item(), a.any() or a.all()."
     ]
    }
   ],
   "source": [
    "scanCheck = dfmaster['scan'].shift(-1)\n",
    "\n",
    "dfmaster.loc[:,'scanCheck'] = scanCheck\n",
    "\n",
    "dfmaster['scan'] = dfmaster['scan'].astype(str).astype(int)\n",
    "print(dfmaster.dtypes)\n",
    "\n",
    "if dfmaster['scan'].astype({'scan':int}) == dfmaster['scanCheck']-1:\n",
    "    point2 = dfmaster['centroid'].shift(-1)\n",
    "point2 = gpd.GeoDataFrame(point2, geometry='centroid', crs='EPSG:31985')\n",
    "\n",
    "dfmaster = gpd.GeoDataFrame(dfmaster, geometry='centroid', crs='EPSG:31985')\n",
    "dfmaster['distCenCen(m)'] = dfmaster['centroid'].distance(point2)\n",
    "\n",
    "dfmaster"
   ]
  },
  {
   "cell_type": "code",
   "execution_count": 27,
   "metadata": {},
   "outputs": [],
   "source": [
    "mastercsv = mastercsv.sort_values('date').reset_index(drop=True)\n",
    "shiftPos = mastercsv.pop('zone')\n",
    "mastercsv['zone'] = shiftPos\n",
    "shiftPos = mastercsv.pop('centroid')\n",
    "mastercsv['centroid'] = shiftPos"
   ]
  },
  {
   "cell_type": "code",
   "execution_count": null,
   "metadata": {},
   "outputs": [],
   "source": [
    "# remove last scan of each day dist\n"
   ]
  },
  {
   "cell_type": "code",
   "execution_count": 28,
   "metadata": {},
   "outputs": [
    {
     "ename": "FileNotFoundError",
     "evalue": "[Errno 2] No such file or directory: 'temp.csv'",
     "output_type": "error",
     "traceback": [
      "\u001b[0;31m---------------------------------------------------------------------------\u001b[0m",
      "\u001b[0;31mFileNotFoundError\u001b[0m                         Traceback (most recent call last)",
      "\u001b[1;32m/home/kyle/Nextcloud/Monkey_Research/Data_Work/capuchin_geoanalysis/Automation Notebook.ipynb Cell 13\u001b[0m in \u001b[0;36m<cell line: 6>\u001b[0;34m()\u001b[0m\n\u001b[1;32m      <a href='vscode-notebook-cell:/home/kyle/Nextcloud/Monkey_Research/Data_Work/capuchin_geoanalysis/Automation%20Notebook.ipynb#ch0000019?line=2'>3</a>\u001b[0m \u001b[39melse\u001b[39;00m:\n\u001b[1;32m      <a href='vscode-notebook-cell:/home/kyle/Nextcloud/Monkey_Research/Data_Work/capuchin_geoanalysis/Automation%20Notebook.ipynb#ch0000019?line=3'>4</a>\u001b[0m     mastercsv\u001b[39m.\u001b[39mto_csv(\u001b[39m'\u001b[39m\u001b[39mcsvDayFiles/scansMaster1.csv\u001b[39m\u001b[39m'\u001b[39m)\n\u001b[0;32m----> <a href='vscode-notebook-cell:/home/kyle/Nextcloud/Monkey_Research/Data_Work/capuchin_geoanalysis/Automation%20Notebook.ipynb#ch0000019?line=5'>6</a>\u001b[0m os\u001b[39m.\u001b[39;49mremove(\u001b[39m'\u001b[39;49m\u001b[39mtemp.csv\u001b[39;49m\u001b[39m'\u001b[39;49m)\n",
      "\u001b[0;31mFileNotFoundError\u001b[0m: [Errno 2] No such file or directory: 'temp.csv'"
     ]
    }
   ],
   "source": [
    "if dir_sel:\n",
    "    mastercsv.to_csv(dir_sel+'/csvDayFiles/scansMaster1.csv')\n",
    "else:\n",
    "    mastercsv.to_csv('csvDayFiles/scansMaster1.csv')\n",
    "\n",
    "os.remove('temp.csv')"
   ]
  },
  {
   "cell_type": "code",
   "execution_count": 1,
   "metadata": {},
   "outputs": [],
   "source": [
    "\n",
    "\n",
    "# Remove warning message for future warnings / Remover mensagem de aviso para avisos futuros\n",
    "warnings.filterwarnings(action='ignore',category=FutureWarning)\n",
    "# Suppress warning for setting with copy, non-issue here / Suprimir aviso para configuração com cópia, não é problema aqui\n",
    "pd.set_option('mode.chained_assignment',None)\n",
    "\n",
    "# Get user decision for input fields and state the variables / Obtenha a decisão do usuário para campos de entrada e indique as variáveis\n",
    "userInput = input('To add observer, group, and weather information for each day type \\'yes\\'. Otherwise leave blank and hit enter')\n",
    "observer = ''\n",
    "group = ''\n",
    "weather = ''\n",
    "\n",
    "# Create a dictionary with all gpx files in dictionary / Crie um dicionário com todos os arquivos gpx no dicionário\n",
    "\n",
    "gpxDict = dict()\n",
    "\n",
    "for file in os.listdir():\n",
    "    if file.endswith('.gpx'):\n",
    "       gpxDict[file] = 'file_'+file\n",
    "\n",
    "# Run for loop to cover every gpx file in directory / Execute o loop para cobrir todos os arquivos gpx no diretório\n",
    "\n",
    "for i in gpxDict:\n",
    "    \n",
    "    # Open and read in the .gpx to a dataframe / Abra e leia no .gpx para um dataframe\n",
    "    gpxCurrent = i\n",
    "    gpxCurrent = open(gpxCurrent)\n",
    "    gpxCurrent = gpxpy.parse(gpxCurrent)\n",
    "    gpxCurrent = gpxCurrent.to_xml()\n",
    "    df = pd.read_xml(gpxCurrent)\n",
    "\n",
    "    # Ask for observer, group, climate conditions / Pergunte por observador, grupo, condições climáticas\n",
    "    if userInput:\n",
    "        observer = input('Input for '+i+': Observer/Observador? ')\n",
    "        group = input('Input for '+i+': Group/Grupo? (if both, mark 0) ') # or leave blank?\n",
    "        weather = input('Input for '+i+': Weather conditions/Condição do clima? ')\n",
    "    \n",
    "    # Remove unecessary columns / Remova colunas desnecessárias\n",
    "    df.pop('desc')\n",
    "    df.pop('time')\n",
    "    if 'hdop' in df.columns:\n",
    "        df.pop('hdop')\n",
    "    df = df.drop(index=0)\n",
    "\n",
    "    # Reorganize columns / Reorganizar colunas\n",
    "    shiftPos = df.pop('name')\n",
    "    df.insert(0, 'name', shiftPos)\n",
    "\n",
    "    # Insert user input columns if they have a value / Insira colunas de entrada do usuário se elas tiverem um valor\n",
    "    if observer:\n",
    "        df.insert(loc=1, column='observer', value=observer, allow_duplicates=True)\n",
    "    if group:\n",
    "        df.insert(loc=1, column='group', value=group, allow_duplicates=True)\n",
    "    if weather:\n",
    "        df.insert(loc=1, column='weather', value=weather, allow_duplicates=True)\n",
    "\n",
    "    # Split 'name' into date, time, and observations / Dividir 'nome' em data, hora e observações\n",
    "    date = df['name'].str[:10]\n",
    "    df.insert(loc=0, column='date', value=date, allow_duplicates=True)\n",
    "\n",
    "    time = df['name'].str[11:19]\n",
    "    df.insert(loc=1, column='time', value=time, allow_duplicates=True)\n",
    "\n",
    "    obs = df['name'].str[19:]\n",
    "    df.insert(loc=2, column='obs', value=obs, allow_duplicates=True)\n",
    "    # Remove whitespace from observations column / Remover espaço em branco da coluna de observações\n",
    "    df['obs'] = df['obs'].str.strip()\n",
    "\n",
    "    df.pop('name')\n",
    "\n",
    "    # Run the timeScan method in spatialFunctions to apply each point to its appropriate scan\n",
    "    # Execute o método timeScan em spatialFunctions para aplicar cada ponto à sua varredura apropriada\n",
    "    timeScan(df)\n",
    "    \n",
    "    # Run the observations method in spatialFunctions / Execute o método de observações em spatialFunctions\n",
    "    observations(df)\n",
    "\n",
    "    # Make geographic and set CRS / Faça geográfica e defina CRS\n",
    "    gdf = gpd.GeoDataFrame(df, geometry=gpd.points_from_xy(df.lon, df.lat)) \n",
    "    gdf = gdf.set_crs('EPSG:4326')\n",
    "    gdf = gdf.to_crs('EPSG:31985')\n",
    "\n",
    "    # Check and create save directory for gpkg files / Verifique e crie um diretório de salvamento para arquivos gpkg\n",
    "    gpkgsavePath = './gpkgData'\n",
    "    isDir = os.path.isdir(gpkgsavePath)\n",
    "    if isDir == False:\n",
    "        mkdir('gpkgData')\n",
    "    \n",
    "    # Export gdf into gpkg / Exportar gdf para gpkg\n",
    "    gdf.to_file('gpkgData/'+i[:-4]+'scans.gpkg', driver=\"GPKG\", layer=i[:-4]+'_wholeDay')\n",
    "    \n",
    "    # Export each scan as a separate layer using the scanExport and scanSpatial methods in spatialFunctions\n",
    "    # Exporte cada varredura como uma camada separada usando os métodos scanExport e scanSpatial em spatialFunctions    \n",
    "    scanExport(gdf, i)\n",
    "\n",
    "    # Check and create save directory for csv files / Verifique e crie um diretório de salvamento para arquivos csv\n",
    "    csvsavePath = './csvDayFiles'\n",
    "    isDir = os.path.isdir(csvsavePath)\n",
    "    if isDir == False:\n",
    "        mkdir('csvDayFiles')\n",
    "    \n",
    "    # Save to csv / Salvar em csv\n",
    "    gdf.to_csv('csvDayFiles/'+i[:-4]+'.csv')"
   ]
  },
  {
   "cell_type": "code",
   "execution_count": null,
   "metadata": {},
   "outputs": [],
   "source": []
  },
  {
   "cell_type": "markdown",
   "metadata": {},
   "source": [
    "#### Section 2\n",
    "Analysis of scans, analyze all of this for every individual scan"
   ]
  },
  {
   "cell_type": "markdown",
   "metadata": {},
   "source": [
    "#### For GPKG data stored in gpkgData folder"
   ]
  },
  {
   "cell_type": "code",
   "execution_count": null,
   "metadata": {},
   "outputs": [],
   "source": [
    "import pandas as pd\n",
    "import geopandas as gpd\n",
    "\n",
    "gpkgDict = dict()\n",
    "\n",
    "for file in os.listdir('gpkgData'):\n",
    "    if file.endswith('.gpkg'):\n",
    "       gpkgDict[file] = 'file_'+file\n",
    "\n",
    "\n",
    "\n",
    "\n",
    "# for i in gpkgDict:\n"
   ]
  },
  {
   "cell_type": "code",
   "execution_count": 2,
   "metadata": {},
   "outputs": [
    {
     "data": {
      "text/html": [
       "<div>\n",
       "<style scoped>\n",
       "    .dataframe tbody tr th:only-of-type {\n",
       "        vertical-align: middle;\n",
       "    }\n",
       "\n",
       "    .dataframe tbody tr th {\n",
       "        vertical-align: top;\n",
       "    }\n",
       "\n",
       "    .dataframe thead th {\n",
       "        text-align: right;\n",
       "    }\n",
       "</style>\n",
       "<table border=\"1\" class=\"dataframe\">\n",
       "  <thead>\n",
       "    <tr style=\"text-align: right;\">\n",
       "      <th></th>\n",
       "      <th>area</th>\n",
       "      <th>perimeter</th>\n",
       "      <th>individuals</th>\n",
       "      <th>ind/m2</th>\n",
       "      <th>ind/perim(m)</th>\n",
       "      <th>geometry</th>\n",
       "    </tr>\n",
       "  </thead>\n",
       "  <tbody>\n",
       "    <tr>\n",
       "      <th>0</th>\n",
       "      <td>1604.925306</td>\n",
       "      <td>198.37454</td>\n",
       "      <td>19</td>\n",
       "      <td>0.011839</td>\n",
       "      <td>0.095778</td>\n",
       "      <td>POLYGON ((283114.650 9168313.246, 283083.739 9...</td>\n",
       "    </tr>\n",
       "  </tbody>\n",
       "</table>\n",
       "</div>"
      ],
      "text/plain": [
       "          area  perimeter  individuals    ind/m2  ind/perim(m)  \\\n",
       "0  1604.925306  198.37454           19  0.011839      0.095778   \n",
       "\n",
       "                                            geometry  \n",
       "0  POLYGON ((283114.650 9168313.246, 283083.739 9...  "
      ]
     },
     "execution_count": 2,
     "metadata": {},
     "output_type": "execute_result"
    }
   ],
   "source": [
    "areatest = gpd.read_file('gpkgData\\/10062022scans.gpkg', layer = '10062022_scan1_zone')\n",
    "areatest"
   ]
  },
  {
   "cell_type": "code",
   "execution_count": null,
   "metadata": {},
   "outputs": [],
   "source": [
    "# Distance between each centroid in temporal order\n",
    "# Map with lines and arrows for path throughout the day\n"
   ]
  },
  {
   "cell_type": "code",
   "execution_count": null,
   "metadata": {},
   "outputs": [],
   "source": [
    "# Distance for each individual to the border"
   ]
  },
  {
   "cell_type": "code",
   "execution_count": null,
   "metadata": {},
   "outputs": [],
   "source": [
    "# Export all relevant data to the main daily csv, i.e all dists etc for scans\n",
    "# Create a new(?) csv for scan by scan data such as areas, perims, individuals, and derived data"
   ]
  },
  {
   "cell_type": "code",
   "execution_count": null,
   "metadata": {},
   "outputs": [],
   "source": [
    "# transfer home range from the R script\n"
   ]
  },
  {
   "cell_type": "code",
   "execution_count": null,
   "metadata": {},
   "outputs": [],
   "source": []
  },
  {
   "cell_type": "code",
   "execution_count": null,
   "metadata": {},
   "outputs": [],
   "source": [
    "# Subgroups/cluster analysis, find clusters on eah scan and distance from each sub-centroid to main group centroid\n"
   ]
  },
  {
   "cell_type": "markdown",
   "metadata": {},
   "source": [
    "#### Export Data"
   ]
  },
  {
   "cell_type": "code",
   "execution_count": null,
   "metadata": {},
   "outputs": [],
   "source": [
    "# Export data frame to gpkg for use in QGIS / Exportar quadro de dados para gpkg para uso no QGIS\n"
   ]
  },
  {
   "cell_type": "code",
   "execution_count": null,
   "metadata": {},
   "outputs": [],
   "source": []
  }
 ],
 "metadata": {
  "kernelspec": {
   "display_name": "Python 3.8.10 ('venvScans': venv)",
   "language": "python",
   "name": "python3"
  },
  "language_info": {
   "codemirror_mode": {
    "name": "ipython",
    "version": 3
   },
   "file_extension": ".py",
   "mimetype": "text/x-python",
   "name": "python",
   "nbconvert_exporter": "python",
   "pygments_lexer": "ipython3",
   "version": "3.8.10"
  },
  "orig_nbformat": 4,
  "vscode": {
   "interpreter": {
    "hash": "856c29cf8e87350c869c3831ccbe45388305bfed818c167b2f52fb8140b26d10"
   }
  }
 },
 "nbformat": 4,
 "nbformat_minor": 2
}
